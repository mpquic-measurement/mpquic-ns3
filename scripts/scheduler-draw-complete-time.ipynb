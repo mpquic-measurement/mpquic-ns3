{
 "cells": [
  {
   "cell_type": "code",
   "execution_count": 19,
   "metadata": {},
   "outputs": [
    {
     "name": "stdout",
     "output_type": "stream",
     "text": [
      "          RR      MRTT     BLEST       ECF      PEEK\n",
      "0    13.4898   0.00000   0.00000  11.00720   0.00000\n",
      "1     0.0000   9.10791  12.72260  10.76540   9.10791\n",
      "2    12.9839  27.61220  27.61220  13.48420  27.61220\n",
      "3    12.0734  11.07900  11.07900   9.61194  11.07900\n",
      "4     0.0000  10.25640  10.25640   0.00000  12.08270\n",
      "..       ...       ...       ...       ...       ...\n",
      "193  12.1716   8.67616   9.74877  12.10520   8.67616\n",
      "194   0.0000   0.00000   0.00000   0.00000   0.00000\n",
      "195  16.2854   0.00000  12.94450   0.00000   0.00000\n",
      "196  13.4930  10.56840   8.82055  12.73100  10.56840\n",
      "197   0.0000  10.04890  11.28360  12.82410  10.04890\n",
      "\n",
      "[198 rows x 5 columns]\n"
     ]
    }
   ],
   "source": [
    "import pandas as pd\n",
    "\n",
    "\n",
    "schedulerTypes = [0,1,2,3,4]\n",
    "\n",
    "comTime = []\n",
    "# get complete time\n",
    "\n",
    "for j in range(1,201):\n",
    "    if (j==97 or j==188):\n",
    "        continue\n",
    "    c_time = []\n",
    "    for i in schedulerTypes:\n",
    "        dir = '../results-wns3/scheduler/scheduler-'+str(j)\n",
    "        file = open(dir+'/scheduler'+str(i)+'-queue.txt', 'r')\n",
    "        last_line = file.readlines()[-1]\n",
    "        # print(j)\n",
    "        if (int(last_line.split('\\t')[3]) > 5000000):\n",
    "            c_time.append(float(last_line.split('\\t')[0]))\n",
    "        else:\n",
    "            c_time.append(0)\n",
    "    # c_time.append(r0)\n",
    "    # c_time.append(r1)\n",
    "    # if(d == \"\"):\n",
    "    #     c_time.append(\"0\") \n",
    "    # else:\n",
    "    #     c_time.append(d)\n",
    "    comTime.append(c_time)\n",
    "\n",
    "dataTotal = pd.DataFrame (comTime, columns = ['RR', 'MRTT', 'BLEST', 'ECF', 'PEEK'])\n",
    "print(dataTotal)\n"
   ]
  },
  {
   "cell_type": "code",
   "execution_count": 20,
   "metadata": {},
   "outputs": [],
   "source": [
    "toDrop = dataTotal.loc[dataTotal[\"BLEST\"] == 0.0].index.tolist()\n",
    "dataTotal = dataTotal.drop(toDrop)\n",
    "toDrop = dataTotal.loc[dataTotal[\"RR\"] == 0.0].index.tolist()\n",
    "dataTotal = dataTotal.drop(toDrop)\n",
    "toDrop =dataTotal.loc[dataTotal[\"MRTT\"] == 0.0].index.tolist()\n",
    "dataTotal = dataTotal.drop(toDrop)\n",
    "toDrop =dataTotal.loc[dataTotal[\"ECF\"] == 0.0].index.tolist()\n",
    "dataTotal = dataTotal.drop(toDrop)\n",
    "toDrop =dataTotal.loc[dataTotal[\"PEEK\"] == 0.0].index.tolist()\n",
    "dataTotal = dataTotal.drop(toDrop)\n",
    "# toDrop =dataTotal.loc[dataTotal[\"MAB\"] == 0.0].index.tolist()\n",
    "# dataTotal = dataTotal.drop(toDrop)"
   ]
  },
  {
   "cell_type": "code",
   "execution_count": 21,
   "metadata": {},
   "outputs": [],
   "source": [
    "## high dynamic\n",
    "\n",
    "toDrop = dataTotal.loc[dataTotal[\"BLEST\"] > 17.5].index.tolist()\n",
    "dataTotal = dataTotal.drop(toDrop)\n",
    "toDrop = dataTotal.loc[dataTotal[\"RR\"] > 17.5].index.tolist()\n",
    "dataTotal = dataTotal.drop(toDrop)\n",
    "toDrop =dataTotal.loc[dataTotal[\"MRTT\"] > 17.5].index.tolist()\n",
    "dataTotal = dataTotal.drop(toDrop)\n",
    "toDrop =dataTotal.loc[dataTotal[\"ECF\"] > 17.5].index.tolist()\n",
    "dataTotal = dataTotal.drop(toDrop)\n",
    "toDrop =dataTotal.loc[dataTotal[\"PEEK\"] > 17.5].index.tolist()\n",
    "dataTotal = dataTotal.drop(toDrop)\n",
    "# toDrop =dataTotal.loc[dataTotal[\"MAB\"] > 10.0].index.tolist()\n",
    "# dataTotal = dataTotal.drop(toDrop)"
   ]
  },
  {
   "cell_type": "code",
   "execution_count": 22,
   "metadata": {},
   "outputs": [
    {
     "data": {
      "text/plain": [
       "RR       60\n",
       "MRTT     60\n",
       "BLEST    60\n",
       "ECF      60\n",
       "PEEK     60\n",
       "dtype: int64"
      ]
     },
     "execution_count": 22,
     "metadata": {},
     "output_type": "execute_result"
    }
   ],
   "source": [
    "# toDrop =dataTotal.loc[dataTotal[\"MAB\"] > 9.5].index.tolist()\n",
    "# dataTotal = dataTotal.drop(toDrop)\n",
    "# toDrop = dataTotal.loc[dataTotal[\"MRTT\"] < 6.0].index.tolist()\n",
    "# dataTotal = dataTotal.drop(toDrop)\n",
    "# toDrop = dataTotal.loc[dataTotal[\"MRTT\"] < 9.0].index.tolist()\n",
    "# dataTotal = dataTotal.drop(toDrop)\n",
    "# toDrop = dataTotal.loc[dataTotal[\"BLEST\"] > 14.0].index.tolist()\n",
    "# dataTotal = dataTotal.drop(toDrop)\n",
    "# toDrop = dataTotal.loc[dataTotal[\"RR\"] < 6.0].index.tolist()\n",
    "# dataTotal = dataTotal.drop(toDrop)\n",
    "# toDrop =dataTotal.loc[dataTotal[\"ECF\"] > 14.0].index.tolist()\n",
    "# dataTotal = dataTotal.drop(toDrop)\n",
    "# toDrop =dataTotal.loc[dataTotal[\"MAB\"] < 6].index.tolist()\n",
    "# dataTotal = dataTotal.drop(toDrop)\n",
    "\n",
    "dataTotal.count()\n"
   ]
  },
  {
   "cell_type": "code",
   "execution_count": 28,
   "metadata": {},
   "outputs": [
    {
     "data": {
      "image/png": "[encoded data removed]",
      "text/plain": [
       "<Figure size 576x432 with 1 Axes>"
      ]
     },
     "metadata": {
      "needs_background": "light"
     },
     "output_type": "display_data"
    }
   ],
   "source": [
    "import matplotlib.pyplot as plt\n",
    "import numpy as np\n",
    "\n",
    "ct0 = [dataTotal['RR']]\n",
    "ct1 = [dataTotal['MRTT']]\n",
    "ct2 = [dataTotal['BLEST']]\n",
    "ct3 = [dataTotal['ECF']]\n",
    "ct4 = [dataTotal['PEEK']]\n",
    "# ct5 = [dataTotal['MAB']]\n",
    "\n",
    "# ticks = ['dynamic2']\n",
    "bar_width = 0.9\n",
    "# create a boxplot for two arrays separately,\n",
    "# the position specifies the location of the\n",
    "# particular box in the graph,\n",
    "# this can be changed as per your wish. Use width\n",
    "# to specify the width of the plot\n",
    "\n",
    "boxprops = dict(linestyle='-', linewidth=4)\n",
    "whiskerprops = dict(linestyle='-', linewidth=4)\n",
    "capprops = dict(linestyle='-', linewidth=4)\n",
    "medianprops = dict(linestyle='-', linewidth=4)\n",
    "\n",
    "plt.figure(figsize=(8,6))\n",
    "ct_plot0 = plt.boxplot(ct0,positions=np.array(np.arange(len(ct0))),widths=bar_width, patch_artist=True, boxprops=boxprops, whiskerprops=whiskerprops, capprops=capprops, medianprops = medianprops)\n",
    "for box in ct_plot0['boxes']:\n",
    "    box.set(hatch = '/', fill=False) \n",
    "ct_plot1 = plt.boxplot(ct1,positions=np.array(np.arange(len(ct1)))+bar_width+0.1,widths=bar_width, patch_artist=True, boxprops=boxprops, whiskerprops=whiskerprops, capprops=capprops, medianprops = medianprops)\n",
    "for box in ct_plot1['boxes']:\n",
    "    box.set(hatch = 'x', fill=False) \n",
    "ct_plot2 = plt.boxplot(ct2,positions=np.array(np.arange(len(ct2)))+bar_width*2+0.1*2,widths=bar_width, patch_artist=True, boxprops=boxprops, whiskerprops=whiskerprops, capprops=capprops, medianprops = medianprops)\n",
    "for box in ct_plot2['boxes']:\n",
    "    box.set(hatch = '\\\\', fill=False) \n",
    "ct_plot3 = plt.boxplot(ct3,positions=np.array(np.arange(len(ct3)))+bar_width*3+0.1*3,widths=bar_width, patch_artist=True, boxprops=boxprops, whiskerprops=whiskerprops, capprops=capprops, medianprops = medianprops)\n",
    "for box in ct_plot3['boxes']:\n",
    "    box.set(hatch = '-', fill=False)\n",
    "ct_plot4 = plt.boxplot(ct4,positions=np.array(np.arange(len(ct4)))+bar_width*4+0.1*4,widths=bar_width, patch_artist=True, boxprops=boxprops, whiskerprops=whiskerprops, capprops=capprops, medianprops = medianprops)\n",
    "for box in ct_plot4['boxes']:\n",
    "    box.set(hatch = '|', fill=False) \n",
    "# ct_plot5 = plt.boxplot(ct5,positions=np.array(np.arange(len(ct5)))+bar_width*5+0.1*5,widths=bar_width, patch_artist=True, boxprops=boxprops, whiskerprops=whiskerprops, capprops=capprops, medianprops = medianprops)\n",
    "# for box in ct_plot5['boxes']:\n",
    "#     box.set(hatch = '+', fill=False) \n",
    "    \n",
    "    \n",
    "\n",
    "\n",
    "def define_box_properties(plot_name, color_code, label):\n",
    "    for k, v in plot_name.items():\n",
    "        plt.setp(plot_name.get(k), color=color_code)\n",
    "         \n",
    "    # use plot function to draw a small line to name the legend.\n",
    "    plt.plot([], c=color_code, label=label)\n",
    "    # plt.legend()\n",
    " \n",
    " \n",
    "# setting colors for each groups\n",
    "define_box_properties(ct_plot0, 'green', 'RR')\n",
    "define_box_properties(ct_plot1, 'red', 'MRTT')\n",
    "define_box_properties(ct_plot2, 'blue', 'BLEST')\n",
    "define_box_properties(ct_plot3, 'c', 'ECF')\n",
    "define_box_properties(ct_plot4, 'orange', 'PEEK')\n",
    "# define_box_properties(ct_plot5, 'orange', 'MAB')\n",
    " \n",
    "# set the x label values\n",
    "ticks = ['RR', 'MRTT', 'BLEST', 'ECF', 'Peekaboo']\n",
    "plt.xticks([0,1,2,3,4], ticks)\n",
    "# plt.tick_params(labelbottom = False, bottom = False)\n",
    "plt.xticks(fontsize=15, fontweight='bold')  # 默认字体大小为10\n",
    "plt.yticks(fontsize=14, fontweight='bold')\n",
    "plt.ylabel(\"Complete Time (seconds)\", fontsize=20, fontweight='bold')\n",
    "# plt.xlabel(\"Scheduler\", fontsize=20, fontweight='bold')\n",
    "# set the limit for x axis\n",
    "plt.xlim(-1, len(ticks))\n",
    " \n",
    "# set the limit for y axis\n",
    "# plt.ylim(0, 50)\n",
    " \n",
    "# set the title\n",
    "# plt.title('High Dynamicity')\n",
    "plt.savefig('./comTime_scheduler.pdf', format='pdf')\n",
    "plt.savefig('./comTime_scheduler.png', format='png')\n",
    "plt.show()"
   ]
  },
  {
   "cell_type": "code",
   "execution_count": 26,
   "metadata": {},
   "outputs": [
    {
     "data": {
      "image/png": "[encoded data removed]",
      "text/plain": [
       "<Figure size 576x360 with 1 Axes>"
      ]
     },
     "metadata": {
      "needs_background": "light"
     },
     "output_type": "display_data"
    }
   ],
   "source": [
    "\n",
    "import seaborn as sns\n",
    "\n",
    "plt.figure(figsize=(8,5))\n",
    "# plt.title('High Dynamicity')\n",
    "sns.ecdfplot(data = dataTotal['RR']/dataTotal['MAB'], label = \"over RR\", color='red', linewidth=4, linestyle=\"-\")\n",
    "sns.ecdfplot(data = dataTotal['MRTT']/dataTotal['MAB'], label = \"over MRTT\", color='blue', linewidth=4, linestyle=\"-\")\n",
    "sns.ecdfplot(data = dataTotal['BLEST']/dataTotal['MAB'], label = \"over BLEST\", color='green', linewidth=4, linestyle=\"-\")\n",
    "sns.ecdfplot(data = dataTotal['ECF']/dataTotal['MAB'], label = \"over ECF\", color='c', linewidth=4, linestyle=\"-\")\n",
    "sns.ecdfplot(data = dataTotal['PEEK']/dataTotal['MAB'], label = \"over Peekaboo\", color='black', linewidth=4, linestyle=\"-\")\n",
    "\n",
    "# sns.kdeplot(data = dataTotal['RR']/dataTotal['MAB'], cumulative = True, label = \"over RR\")\n",
    "# sns.kdeplot(data = dataTotal['MRTT']/dataTotal['MAB'], cumulative = True, label = \"over MinRTT\")\n",
    "# sns.kdeplot(data = dataTotal['BLEST']/dataTotal['MAB'], cumulative = True, label = \"over BLEST\")\n",
    "# sns.kdeplot(data = dataTotal['ECF']/dataTotal['MAB'], cumulative = True, label = \"over ECF\")\n",
    "plt.legend()\n",
    "# plt.legend(loc=0, numpoints=1)\n",
    "leg = plt.gca().get_legend()\n",
    "ltext = leg.get_texts()\n",
    "plt.setp(ltext, fontsize=20, fontweight='bold')  # 设置图例字体的大小和粗细\n",
    "plt.grid(linestyle=\"--\") \n",
    "# plt.xlim(0.5,2.1)\n",
    "plt.xticks(fontsize=18, fontweight='bold')  # 默认字体大小为10\n",
    "plt.yticks(fontsize=18, fontweight='bold')\n",
    "plt.xlabel(\"Relative performance ratio\", fontsize=20, fontweight='bold')\n",
    "plt.ylabel(\"CDF\", fontsize=20, fontweight='bold')\n",
    "plt.savefig('./cdf_high.pdf', format='pdf')\n",
    "plt.show()\n",
    "  "
   ]
  },
  {
   "cell_type": "code",
   "execution_count": 10,
   "metadata": {},
   "outputs": [
    {
     "name": "stdout",
     "output_type": "stream",
     "text": [
      "          RR      MRTT    BLEST       ECF     PEEK       MAB\n",
      "0    13.0568  12.82540  12.8254  10.99790  0.00000  10.19500\n",
      "1    10.7686   9.79055  12.6864  10.53400  9.23975   9.78888\n",
      "2    29.9730  12.04950  12.0495  11.70180  0.00000  29.98100\n",
      "3    10.2646  11.02610  11.0261   9.98683  0.00000   7.82746\n",
      "4    13.8064  11.74290  11.7429   0.00000  0.00000  10.74240\n",
      "..       ...       ...      ...       ...      ...       ...\n",
      "193  11.7826   9.55826   0.0000   0.00000  0.00000  11.95120\n",
      "194   0.0000   0.00000   0.0000   0.00000  0.00000   0.00000\n",
      "195  15.0211   0.00000   0.0000  12.88210  0.00000  13.20970\n",
      "196   0.0000   9.79770  11.1933   0.00000  9.15080  12.24000\n",
      "197  12.1467   0.00000   0.0000  12.34780  0.00000  12.30620\n",
      "\n",
      "[198 rows x 6 columns]\n"
     ]
    }
   ],
   "source": [
    "import pandas as pd\n",
    "\n",
    "schedulerTypes = [0,1,2,3,4,5]\n",
    "\n",
    "comTime = []\n",
    "# get complete time\n",
    "\n",
    "for j in range(1,201):\n",
    "    if (j==97 or j==188):\n",
    "        continue\n",
    "    c_time = []\n",
    "    for i in schedulerTypes:\n",
    "        dir = '../results-wns3/scheduler-'+str(j)\n",
    "        file = open(dir+'/scheduler'+str(i)+'-queue.txt', 'r')\n",
    "        last_line = file.readlines()[-1]\n",
    "        if (int(last_line.split('\\t')[3]) > 5000000):\n",
    "            c_time.append(float(last_line.split('\\t')[0]))\n",
    "        else:\n",
    "            c_time.append(0)\n",
    "    comTime.append(c_time)\n",
    "\n",
    "dataTotal = pd.DataFrame (comTime, columns = ['RR', 'MRTT', 'BLEST', 'ECF', 'PEEK','MAB'])\n",
    "\n",
    "print(dataTotal)\n",
    "\n"
   ]
  },
  {
   "cell_type": "code",
   "execution_count": 11,
   "metadata": {},
   "outputs": [],
   "source": [
    "toDrop = dataTotal.loc[dataTotal[\"BLEST\"] == 0.0].index.tolist()\n",
    "dataTotal = dataTotal.drop(toDrop)\n",
    "toDrop = dataTotal.loc[dataTotal[\"RR\"] == 0.0].index.tolist()\n",
    "dataTotal = dataTotal.drop(toDrop)\n",
    "toDrop =dataTotal.loc[dataTotal[\"MRTT\"] == 0.0].index.tolist()\n",
    "dataTotal = dataTotal.drop(toDrop)\n",
    "toDrop =dataTotal.loc[dataTotal[\"ECF\"] == 0.0].index.tolist()\n",
    "dataTotal = dataTotal.drop(toDrop)\n",
    "toDrop =dataTotal.loc[dataTotal[\"PEEK\"] == 0.0].index.tolist()\n",
    "dataTotal = dataTotal.drop(toDrop)\n",
    "toDrop =dataTotal.loc[dataTotal[\"MAB\"] == 0.0].index.tolist()\n",
    "dataTotal = dataTotal.drop(toDrop)"
   ]
  },
  {
   "cell_type": "code",
   "execution_count": 12,
   "metadata": {},
   "outputs": [
    {
     "data": {
      "text/plain": [
       "RR       11\n",
       "MRTT     11\n",
       "BLEST    11\n",
       "ECF      11\n",
       "PEEK     11\n",
       "MAB      11\n",
       "dtype: int64"
      ]
     },
     "execution_count": 12,
     "metadata": {},
     "output_type": "execute_result"
    }
   ],
   "source": [
    "dataTotal.count()"
   ]
  },
  {
   "cell_type": "code",
   "execution_count": 14,
   "metadata": {},
   "outputs": [
    {
     "data": {
      "image/png": "[encoded data removed]",
      "text/plain": [
       "<Figure size 432x576 with 1 Axes>"
      ]
     },
     "metadata": {
      "needs_background": "light"
     },
     "output_type": "display_data"
    }
   ],
   "source": [
    "import matplotlib.pyplot as plt\n",
    "import numpy as np\n",
    "\n",
    "ct0 = [dataTotal['RR']]\n",
    "ct1 = [dataTotal['MRTT']]\n",
    "ct2 = [dataTotal['BLEST']]\n",
    "ct3 = [dataTotal['ECF']]\n",
    "ct4 = [dataTotal['PEEK']]\n",
    "ct5 = [dataTotal['MAB']]\n",
    "\n",
    "# ticks = ['dynamic2']\n",
    "bar_width = 0.9\n",
    "# create a boxplot for two arrays separately,\n",
    "# the position specifies the location of the\n",
    "# particular box in the graph,\n",
    "# this can be changed as per your wish. Use width\n",
    "# to specify the width of the plot\n",
    "\n",
    "boxprops = dict(linestyle='-', linewidth=4)\n",
    "whiskerprops = dict(linestyle='-', linewidth=4)\n",
    "capprops = dict(linestyle='-', linewidth=4)\n",
    "medianprops = dict(linestyle='-', linewidth=4)\n",
    "\n",
    "plt.figure(figsize=(6,8))\n",
    "ct_plot0 = plt.boxplot(ct0,positions=np.array(np.arange(len(ct0))),widths=bar_width, patch_artist=True, boxprops=boxprops, whiskerprops=whiskerprops, capprops=capprops, medianprops = medianprops)\n",
    "for box in ct_plot0['boxes']:\n",
    "    box.set(hatch = '/', fill=False) \n",
    "ct_plot1 = plt.boxplot(ct1,positions=np.array(np.arange(len(ct1)))+bar_width+0.1,widths=bar_width, patch_artist=True, boxprops=boxprops, whiskerprops=whiskerprops, capprops=capprops, medianprops = medianprops)\n",
    "for box in ct_plot1['boxes']:\n",
    "    box.set(hatch = 'x', fill=False) \n",
    "ct_plot2 = plt.boxplot(ct2,positions=np.array(np.arange(len(ct2)))+bar_width*2+0.1*2,widths=bar_width, patch_artist=True, boxprops=boxprops, whiskerprops=whiskerprops, capprops=capprops, medianprops = medianprops)\n",
    "for box in ct_plot2['boxes']:\n",
    "    box.set(hatch = '\\\\', fill=False) \n",
    "ct_plot3 = plt.boxplot(ct3,positions=np.array(np.arange(len(ct3)))+bar_width*3+0.1*3,widths=bar_width, patch_artist=True, boxprops=boxprops, whiskerprops=whiskerprops, capprops=capprops, medianprops = medianprops)\n",
    "for box in ct_plot3['boxes']:\n",
    "    box.set(hatch = '-', fill=False)\n",
    "ct_plot4 = plt.boxplot(ct4,positions=np.array(np.arange(len(ct4)))+bar_width*4+0.1*4,widths=bar_width, patch_artist=True, boxprops=boxprops, whiskerprops=whiskerprops, capprops=capprops, medianprops = medianprops)\n",
    "for box in ct_plot4['boxes']:\n",
    "    box.set(hatch = '|', fill=False) \n",
    "# ct_plot5 = plt.boxplot(ct5,positions=np.array(np.arange(len(ct5)))+bar_width*5+0.1*5,widths=bar_width, patch_artist=True, boxprops=boxprops, whiskerprops=whiskerprops, capprops=capprops, medianprops = medianprops)\n",
    "# for box in ct_plot5['boxes']:\n",
    "#     box.set(hatch = '+', fill=False) \n",
    "    \n",
    "    \n",
    "\n",
    "\n",
    "def define_box_properties(plot_name, color_code, label):\n",
    "    for k, v in plot_name.items():\n",
    "        plt.setp(plot_name.get(k), color=color_code)\n",
    "         \n",
    "    # use plot function to draw a small line to name the legend.\n",
    "    plt.plot([], c=color_code, label=label)\n",
    "    # plt.legend()\n",
    " \n",
    " \n",
    "# setting colors for each groups\n",
    "define_box_properties(ct_plot0, 'red', 'RR')\n",
    "define_box_properties(ct_plot1, 'blue', 'MRTT')\n",
    "define_box_properties(ct_plot2, 'green', 'BLEST')\n",
    "define_box_properties(ct_plot3, 'c', 'ECF')\n",
    "define_box_properties(ct_plot4, 'orange', 'PEEK')\n",
    "# define_box_properties(ct_plot5, 'orange', 'MAB')\n",
    " \n",
    "# set the x label values\n",
    "ticks = ['RR', 'MRTT', 'BLEST', 'ECF', 'Peekaboo']\n",
    "plt.xticks([0,1,2,3,4], ticks)\n",
    "# plt.tick_params(labelbottom = False, bottom = False)\n",
    "plt.xticks(fontsize=14, fontweight='bold')  # 默认字体大小为10\n",
    "plt.yticks(fontsize=18, fontweight='bold')\n",
    "plt.ylabel(\"Complete Time (seconds)\", fontsize=20, fontweight='bold')\n",
    "# plt.xlabel(\"Scheduler\", fontsize=20, fontweight='bold')\n",
    "# set the limit for x axis\n",
    "plt.xlim(-1, len(ticks))\n",
    " \n",
    "# set the limit for y axis\n",
    "# plt.ylim(0, 50)\n",
    " \n",
    "# set the title\n",
    "# plt.title('High Dynamicity')\n",
    "# plt.savefig('./comTime_scheduler.pdf', format='pdf')\n",
    "# plt.savefig('./comTime_scheduler.png', format='png')\n",
    "plt.show()"
   ]
  }
 ],
 "metadata": {
  "interpreter": {
   "hash": "31f2aee4e71d21fbe5cf8b01ff0e069b9275f58929596ceb00d14d90e3e16cd6"
  },
  "kernelspec": {
   "display_name": "Python 3 (ipykernel)",
   "language": "python",
   "name": "python3"
  },
  "language_info": {
   "codemirror_mode": {
    "name": "ipython",
    "version": 3
   },
   "file_extension": ".py",
   "mimetype": "text/x-python",
   "name": "python",
   "nbconvert_exporter": "python",
   "pygments_lexer": "ipython3",
   "version": "3.10.6"
  }
 },
 "nbformat": 4,
 "nbformat_minor": 2
}
