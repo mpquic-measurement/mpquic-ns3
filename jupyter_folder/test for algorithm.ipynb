{
 "cells": [
  {
   "cell_type": "code",
   "execution_count": 1,
   "id": "8c76b02f",
   "metadata": {},
   "outputs": [],
   "source": [
    "import math\n",
    "import numpy as np\n",
    "k = 2\n",
    "L = np.array([0.0,0.0])\n",
    "p = np.array([0.5,0.5])\n",
    "e = 0\n",
    "eta = 1\n",
    "eta = math.sqrt(math.log(k)/(2**e))\n",
    "\n",
    "l = np.array([0.7, 0.3])\n",
    "\n",
    "\n"
   ]
  },
  {
   "cell_type": "code",
   "execution_count": 2,
   "id": "b1558c7e",
   "metadata": {},
   "outputs": [
    {
     "name": "stdout",
     "output_type": "stream",
     "text": [
      "0.8325546111576977\n",
      "0.5887050112577373\n",
      "0.41627730557884884\n",
      "0.29435250562886867\n",
      "0.20813865278942442\n",
      "0.14717625281443433\n",
      "0.10406932639471221\n",
      "0.07358812640721717\n",
      "0.052034663197356106\n",
      "0.03679406320360858\n"
     ]
    }
   ],
   "source": [
    "for e in range(0,10):\n",
    "    eta = math.sqrt(math.log(k)/(2**e))\n",
    "    print(eta)"
   ]
  },
  {
   "cell_type": "code",
   "execution_count": 3,
   "id": "b101b2b7",
   "metadata": {},
   "outputs": [
    {
     "name": "stdout",
     "output_type": "stream",
     "text": [
      "1.0\n",
      "0.9900498337491681\n",
      "0.9801986733067553\n",
      "0.9704455335485082\n",
      "0.9607894391523232\n",
      "0.951229424500714\n",
      "0.9417645335842487\n",
      "0.9323938199059483\n",
      "0.9231163463866358\n",
      "0.9139311852712282\n"
     ]
    }
   ],
   "source": [
    "for x in range(0,10):\n",
    "    y = math.e**(-x/100)\n",
    "    print(y)"
   ]
  },
  {
   "cell_type": "code",
   "execution_count": 43,
   "id": "df6085c8",
   "metadata": {},
   "outputs": [
    {
     "data": {
      "text/plain": [
       "0.8325546111576977"
      ]
     },
     "execution_count": 43,
     "metadata": {},
     "output_type": "execute_result"
    }
   ],
   "source": [
    "eta"
   ]
  },
  {
   "cell_type": "code",
   "execution_count": 71,
   "id": "c03f6c06",
   "metadata": {},
   "outputs": [
    {
     "name": "stdout",
     "output_type": "stream",
     "text": [
      "[0. 0.]\n",
      "[0.5 0.5]\n",
      "[0.07358813 0.        ]\n",
      "[0.48161127 0.51838873]\n",
      "[0.14717625 0.        ]\n",
      "[0.46327221 0.53672779]\n",
      "[0.22076438 0.        ]\n",
      "[0.44503197 0.55496803]\n",
      "[0.29435251 0.        ]\n",
      "[0.42693864 0.57306136]\n",
      "[0.36794063 0.        ]\n",
      "[0.40903873 0.59096127]\n",
      "[0.44152876 0.        ]\n",
      "[0.39137676 0.60862324]\n",
      "[0.51511688 0.        ]\n",
      "[0.37399478 0.62600522]\n",
      "[0.58870501 0.        ]\n",
      "[0.35693204 0.64306796]\n",
      "[0.66229314 0.        ]\n",
      "[0.34022468 0.65977532]\n"
     ]
    }
   ],
   "source": [
    "\n",
    "i = 0\n",
    "newL = np.copy(L)\n",
    "for x in range(0,10):\n",
    "    newL[i] = L[i] + eta*((x)/p[i])\n",
    "    print(newL)\n",
    "    m = math.e**(-newL)\n",
    "    newP = np.copy(p)\n",
    "    for j in range(0,k):\n",
    "        newP[j] = m[j]/sum(m)\n",
    "    print(newP)\n"
   ]
  },
  {
   "cell_type": "code",
   "execution_count": 52,
   "id": "8de6e983",
   "metadata": {},
   "outputs": [
    {
     "data": {
      "text/plain": [
       "array([0., 0.])"
      ]
     },
     "execution_count": 52,
     "metadata": {},
     "output_type": "execute_result"
    }
   ],
   "source": [
    "L"
   ]
  },
  {
   "cell_type": "code",
   "execution_count": 53,
   "id": "df21585f",
   "metadata": {},
   "outputs": [
    {
     "data": {
      "text/plain": [
       "array([0.        , 0.49953277])"
      ]
     },
     "execution_count": 53,
     "metadata": {},
     "output_type": "execute_result"
    }
   ],
   "source": [
    "newL"
   ]
  },
  {
   "cell_type": "code",
   "execution_count": 54,
   "id": "cdec2d23",
   "metadata": {},
   "outputs": [
    {
     "data": {
      "text/plain": [
       "array([1.        , 0.60681412])"
      ]
     },
     "execution_count": 54,
     "metadata": {},
     "output_type": "execute_result"
    }
   ],
   "source": [
    "math.e**(-newL)"
   ]
  },
  {
   "cell_type": "code",
   "execution_count": 58,
   "id": "72a39f77",
   "metadata": {},
   "outputs": [],
   "source": [
    "m = math.e**(-newL)\n",
    "newP = np.copy(p)\n",
    "for i in range(0,k):\n",
    "    newP[i] = m[i]/sum(m)"
   ]
  },
  {
   "cell_type": "code",
   "execution_count": 59,
   "id": "a51bff4e",
   "metadata": {},
   "outputs": [
    {
     "data": {
      "text/plain": [
       "array([1.        , 0.60681412])"
      ]
     },
     "execution_count": 59,
     "metadata": {},
     "output_type": "execute_result"
    }
   ],
   "source": [
    "m"
   ]
  },
  {
   "cell_type": "code",
   "execution_count": 60,
   "id": "7b180c17",
   "metadata": {},
   "outputs": [
    {
     "data": {
      "text/plain": [
       "array([0.62234952, 0.37765048])"
      ]
     },
     "execution_count": 60,
     "metadata": {},
     "output_type": "execute_result"
    }
   ],
   "source": [
    "newP"
   ]
  },
  {
   "cell_type": "code",
   "execution_count": null,
   "id": "2108e12a",
   "metadata": {},
   "outputs": [],
   "source": []
  },
  {
   "cell_type": "code",
   "execution_count": null,
   "id": "8aae1543",
   "metadata": {},
   "outputs": [],
   "source": []
  }
 ],
 "metadata": {
  "kernelspec": {
   "display_name": "Python 3.8.10 64-bit",
   "language": "python",
   "name": "python3"
  },
  "language_info": {
   "codemirror_mode": {
    "name": "ipython",
    "version": 3
   },
   "file_extension": ".py",
   "mimetype": "text/x-python",
   "name": "python",
   "nbconvert_exporter": "python",
   "pygments_lexer": "ipython3",
   "version": "3.8.10"
  },
  "vscode": {
   "interpreter": {
    "hash": "916dbcbb3f70747c44a77c7bcd40155683ae19c65e1c03b4aa3499c5328201f1"
   }
  }
 },
 "nbformat": 4,
 "nbformat_minor": 5
}
